{
 "cells": [
  {
   "cell_type": "markdown",
   "metadata": {},
   "source": [
    "# Semana 3: Programación Orientada a Objetos (OOP) en Python"
   ]
  },
  {
   "cell_type": "markdown",
   "metadata": {},
   "source": [
    "OOP organiza el código en torno a 'objetos' en lugar de funciones y lógica. Un objeto es una instancia de una clase, y las clases son como moldes que nos permiten crear objetos con características y comportamientos específicos. Este paradigma es útil porque nos permite modelar el mundo real de manera más intuitiva, organizar nuestro código de forma más modular y reutilizable, y facilitar el mantenimiento y la expansión de nuestras aplicaciones.\n",
    "\n",
    "Vamos a ver los conceptos clave de OOP en Python: clases, objetos, atributos, métodos, encapsulación, herencia y polimorfismo."
   ]
  },
  {
   "cell_type": "markdown",
   "metadata": {},
   "source": [
    "## 1. Clases y Objetos \n",
    "\n",
    "En Python, definimos una clase usando la palabra clave class, y creamos objetos instanciando esa clase."
   ]
  },
  {
   "cell_type": "code",
   "execution_count": 1,
   "metadata": {},
   "outputs": [
    {
     "name": "stdout",
     "output_type": "stream",
     "text": [
      "<__main__.Persona object at 0x105ff4a30>\n"
     ]
    }
   ],
   "source": [
    "# Definición de una clase simple\n",
    "class Persona:\n",
    "    pass\n",
    "\n",
    "# Creación de un objeto de la clase Persona\n",
    "persona1 = Persona()\n",
    "print(persona1)  # Output: <__main__.Persona object at 0x...>"
   ]
  },
  {
   "cell_type": "markdown",
   "metadata": {},
   "source": [
    "En este código, hemos definido una clase `Persona` que por ahora no tiene atributos ni métodos. Luego, hemos creado un objeto de esa clase llamado `persona1`. Vamos a hacer esta clase más útil añadiendo atributos y métodos."
   ]
  },
  {
   "cell_type": "markdown",
   "metadata": {},
   "source": [
    "## 2. Atributos y Métodos\n",
    "\n",
    "Los atributos son variables que pertenecen a una clase y representan el estado o las propiedades de los objetos. Los métodos son funciones definidas dentro de una clase que describen los comportamientos de los objetos\n",
    "\n",
    "En Python, usamos el método especial `__init__` para inicializar los atributos de un objeto cuando se crea. También usamos ***self*** para referirnos a la instancia actual de la clase."
   ]
  },
  {
   "cell_type": "code",
   "execution_count": 26,
   "metadata": {},
   "outputs": [
    {
     "name": "stdout",
     "output_type": "stream",
     "text": [
      "Ana\n",
      "21\n",
      "Hola, mi nombre es Ana y tengo 21 años.\n"
     ]
    }
   ],
   "source": [
    "# Clase con atributos y métodos\n",
    "class Persona:\n",
    "    def __init__(self, nombre, edad= 7):\n",
    "        self.nombre = nombre\n",
    "        self.edad = edad\n",
    "    \n",
    "    def saludar(self):\n",
    "        print(f\"Hola, mi nombre es {self.nombre} y tengo {self.edad} años.\")\n",
    "\n",
    "# Creación de un objeto de la clase Persona\n",
    "persona1 = Persona(\"Ana\", 21)\n",
    "print(persona1.nombre)  \n",
    "print(persona1.edad)    \n",
    "persona1.saludar() "
   ]
  },
  {
   "cell_type": "markdown",
   "metadata": {},
   "source": [
    "Como pueden ver el `_init_` es una especie de \"constructor\". Se llama siempre al instanciar una clase."
   ]
  },
  {
   "cell_type": "markdown",
   "metadata": {},
   "source": [
    "Ahora tenemos una clase con dos atributos `nombre` y `edad` y un método que usa los atributos de la clase para \"saludar\" :)"
   ]
  },
  {
   "cell_type": "markdown",
   "metadata": {},
   "source": [
    "## 3. Encapsulamiento\n",
    "\n",
    "La encapsulación es un principio clave de OOP que consiste en ocultar los detalles internos de un objeto y exponer solo lo que es necesario. Esto nos permite proteger los datos y mantener la integridad del objeto.\n",
    "\n",
    "En Python, podemos usar guiones bajos para indicar que un atributo o método es protegido o privado y no debería ser accedido directamente desde fuera de la clase."
   ]
  },
  {
   "cell_type": "code",
   "execution_count": 35,
   "metadata": {},
   "outputs": [
    {
     "name": "stdout",
     "output_type": "stream",
     "text": [
      "Hola, mi nombre es Ana y tengo 21 años.\n",
      "Ana\n",
      "Maria\n",
      "21\n",
      "Maria\n"
     ]
    }
   ],
   "source": [
    "# Clase con encapsulación\n",
    "class Persona:\n",
    "    def __init__(self, nombre, edad):\n",
    "        self.__nombre = nombre  # Atributo privado\n",
    "        self._edad = edad       # Atributo protegido\n",
    "    \n",
    "    def saludar(self):\n",
    "        print(f\"Hola, mi nombre es {self.__nombre} y tengo {self._edad} años.\")\n",
    "    \n",
    "    def get_nombre(self):\n",
    "        return self.__nombre\n",
    "    \n",
    "    def set_nombre(self, nombre):\n",
    "        self.__nombre = nombre\n",
    "\n",
    "# Creación de un objeto de la clase Persona\n",
    "persona1 = Persona(\"Ana\", 21)\n",
    "persona1.saludar()  # Output: Hola, mi nombre es Ana y tengo 21 años.\n",
    "print(persona1.get_nombre())  # Output: Ana\n",
    "persona1.set_nombre(\"Maria\")\n",
    "print(persona1.get_nombre())  # Output: Maria\n",
    "\n",
    "#---------------------------------------------\n",
    "\n",
    "print(persona1._edad)\n",
    "#print(persona1.__nombre)\n",
    "\n",
    "print(persona1._Persona__nombre)"
   ]
  },
  {
   "cell_type": "markdown",
   "metadata": {},
   "source": [
    "En este ejemplo, usamos dos guiones bajos (`__`) antes de los nombres de los atributos para indicar que son privados. Luego, definimos métodos `get` y `set` para acceder y modificar estos atributos de manera controlada."
   ]
  },
  {
   "cell_type": "markdown",
   "metadata": {},
   "source": [
    "## 4. Herencia\n",
    "\n",
    "La herencia es un mecanismo que permite crear una nueva clase basándose en una clase existente. La clase nueva hereda atributos y métodos de la clase existente, lo que facilita la reutilización del código. \n",
    "\n",
    "En Python, se utiliza la sintaxis `class SubClase(SuperClase)` para definir una clase que hereda de otra."
   ]
  },
  {
   "cell_type": "code",
   "execution_count": null,
   "metadata": {},
   "outputs": [],
   "source": [
    "class Persona:\n",
    "    def __init__(self, nombre, edad):\n",
    "        self.nombre = nombre\n",
    "        self.edad = edad\n",
    "    \n",
    "    def saludar(self):\n",
    "        print(f\"Hola, mi nombre es {self.nombre} y tengo {self.edad} años.\")\n",
    "\n",
    "# Clase derivada de Persona\n",
    "class Empleado(Persona):\n",
    "    def __init__(self, nombre, edad, salario):\n",
    "        super().__init__(nombre, edad)  # Llama al constructor de la clase base\n",
    "        self.salario = salario\n",
    "    \n",
    "    def mostrar_salario(self):\n",
    "        print(f\"{self.nombre} tiene un salario de {self.salario}.\")\n",
    "\n",
    "# Creación de un objeto de la clase Empleado\n",
    "empleado1 = Empleado(\"Juan\", 30, 50000)\n",
    "empleado1.saludar()        # Output: Hola, mi nombre es Juan y tengo 30 años.\n",
    "empleado1.mostrar_salario()  # Output: Juan tiene un salario de 50000."
   ]
  },
  {
   "cell_type": "markdown",
   "metadata": {},
   "source": [
    "- `Empleado` hereda de `Persona`, lo que significa que Empleado tiene todos los atributos y métodos de `Persona`.\n",
    "- Usamos `super().__init__(nombre, edad)` para llamar al constructor de `Persona` y asegurarnos de que nombre y edad sean inicializados.\n",
    "- Empleado añade un nuevo atributo `salario` y un método `mostrar_salario`."
   ]
  },
  {
   "cell_type": "markdown",
   "metadata": {},
   "source": [
    "## 5. Polimorfismo\n",
    "\n",
    "El polimorfismo es la capacidad de utilizar una interfaz común para interactuar con diferentes tipos de objetos. En otras palabras, permite que un método se comporte de manera diferente según el objeto que lo esté utilizando. Esto se logra mediante la herencia y la sobrescritura de métodos."
   ]
  },
  {
   "cell_type": "code",
   "execution_count": 21,
   "metadata": {},
   "outputs": [
    {
     "name": "stdout",
     "output_type": "stream",
     "text": [
      "Guau!\n",
      "Miau!\n"
     ]
    }
   ],
   "source": [
    "class Animal:\n",
    "    def hacer_sonido(self):\n",
    "        pass  # Método que será sobrescrito en las subclases\n",
    "\n",
    "class Perro(Animal):\n",
    "    def hacer_sonido(self):\n",
    "        print(\"Guau!\")\n",
    "\n",
    "class Gato(Animal):\n",
    "    def hacer_sonido(self):\n",
    "        print(\"Miau!\")\n",
    "\n",
    "# Uso de polimorfismo\n",
    "animales = [Perro(), Gato()]\n",
    "\n",
    "for animal in animales:\n",
    "    animal.hacer_sonido()  # Output: Guau! Miau!"
   ]
  },
  {
   "cell_type": "markdown",
   "metadata": {},
   "source": [
    "## 6. Herencia Múltiple\n",
    "\n",
    "Python también soporta la herencia múltiple, lo que permite que una clase herede de múltiples clases base. Esto se logra especificando todas las clases base en la definición de la subclase."
   ]
  },
  {
   "cell_type": "code",
   "execution_count": 25,
   "metadata": {},
   "outputs": [
    {
     "name": "stdout",
     "output_type": "stream",
     "text": [
      "Volando\n",
      "Nadando\n"
     ]
    }
   ],
   "source": [
    "class Volador:\n",
    "    def volar(self):\n",
    "        print(\"Volando\")\n",
    "\n",
    "class Nadador:\n",
    "    def nadar(self):\n",
    "        print(\"Nadando\")\n",
    "\n",
    "class Pato(Volador, Nadador):\n",
    "    super().__init__()\n",
    "\n",
    "# Creación de un objeto de la clase Pato\n",
    "pato = Pato()\n",
    "pato.volar()  # Output: Volando\n",
    "pato.nadar()  # Output: Nadando\n"
   ]
  },
  {
   "cell_type": "markdown",
   "metadata": {},
   "source": [
    "`Pato` hereda de `Volador` y `Nadador`, lo que significa que tiene ambos métodos `volar` y `nadar`."
   ]
  },
  {
   "cell_type": "markdown",
   "metadata": {},
   "source": [
    "## 7. Comparación con Otros Lenguajes\n",
    "\n",
    "Ahora, veamos algunas diferencias clave de OOP en Python en comparación con otros lenguajes:\n",
    "\n",
    "- Declaraciones de clase y objetos: En Python, no es necesario declarar explícitamente el tipo de variable.\n",
    "\n",
    "- Métodos especiales: Python utiliza métodos especiales como __init__ para constructores, lo cual es diferente a otros lenguajes como Java o C++.\n",
    "\n",
    "- Encapsulación: En Python, la encapsulación se basa en convenciones de nomenclatura, mientras que otros lenguajes usan modificadores de acceso (private, protected, public).\n",
    "\n",
    "- Herencia y Polimorfismo: La sintaxis para herencia y polimorfismo es sencilla y directa en Python, sin necesidad de especificar tipos.\n",
    "\n",
    "Por ejemplo, comparemos la definición de una clase simple en Python y Java:"
   ]
  },
  {
   "cell_type": "markdown",
   "metadata": {},
   "source": [
    "**Python**"
   ]
  },
  {
   "cell_type": "code",
   "execution_count": 22,
   "metadata": {},
   "outputs": [],
   "source": [
    "class Persona:\n",
    "    def __init__(self, nombre, edad):\n",
    "        self.nombre = nombre\n",
    "        self.edad = edad\n",
    "    def saludar(self):\n",
    "        print(f\"Hola, mi nombre es {self.nombre} y tengo {self.edad} años.\")"
   ]
  },
  {
   "cell_type": "markdown",
   "metadata": {},
   "source": [
    "**Java** \n",
    "\n",
    "(Como pueden ver no jupyter no tiene soporte para Java :( )"
   ]
  },
  {
   "cell_type": "code",
   "execution_count": null,
   "metadata": {
    "vscode": {
     "languageId": "bat"
    }
   },
   "outputs": [],
   "source": [
    "public class Persona {\n",
    "    private String nombre;\n",
    "    private int edad;\n",
    "\n",
    "    public Persona(String nombre, int edad) {\n",
    "        this.nombre = nombre;\n",
    "        this.edad = edad;\n",
    "    }\n",
    "\n",
    "    public void saludar() {\n",
    "        System.out.println(\"Hola, mi nombre es \" + nombre + \" y tengo \" + edad + \" años.\");\n",
    "    }\n",
    "}"
   ]
  },
  {
   "cell_type": "markdown",
   "metadata": {},
   "source": [
    "## 8. Ejercicios\n",
    "\n",
    "1. Crear una clase Libro con atributos titulo, autor, y paginas. Incluir un método que imprima los detalles del libro.\n",
    "\n",
    "2. Crear una clase CuentaBancaria con atributos titular y saldo. Incluir métodos para depositar y retirar dinero, asegurando que el saldo no sea negativo después de un retiro.\n",
    "\n",
    "3. Crea un sistema de gestión de empleados que incluye diferentes tipos de empleados (por ejemplo, empleados de tiempo completo, empleados a medio tiempo y contratistas). Cada tipo de empleado debe tener su propia implementación para calcular el salario.\n",
    "\n",
    "    - Crea una clase base abstracta `Empleado` con métodos abstractos `calcular_salario` y `mostrar_informacion`.\n",
    "    - Crea clases derivadas `EmpleadoTiempoCompleto`, EmpleadoMedioTiempo y Contratista que implementen los métodos abstractos.\n",
    "    - Crea una función que reciba una lista de empleados y muestre la información y el salario de cada uno."
   ]
  }
 ],
 "metadata": {
  "kernelspec": {
   "display_name": "Python 3",
   "language": "python",
   "name": "python3"
  },
  "language_info": {
   "codemirror_mode": {
    "name": "ipython",
    "version": 3
   },
   "file_extension": ".py",
   "mimetype": "text/x-python",
   "name": "python",
   "nbconvert_exporter": "python",
   "pygments_lexer": "ipython3",
   "version": "3.8.10"
  }
 },
 "nbformat": 4,
 "nbformat_minor": 2
}
