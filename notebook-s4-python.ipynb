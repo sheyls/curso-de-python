{
 "cells": [
  {
   "cell_type": "markdown",
   "metadata": {},
   "source": [
    "# Semana 4:  Elementos extra de sintaxis en Python. Ejercitación del contenido."
   ]
  },
  {
   "cell_type": "markdown",
   "metadata": {},
   "source": [
    "Hoy vamos a cubrir algunos conceptos avanzados de Python que no habíamos visto. Estos incluyen funciones lambda, decoradores y métodos mágicos (también conocidos como dunder methods). Además vamos a ejercitar lo relacionado con sintaxis con ejercicios.\n",
    "\n"
   ]
  },
  {
   "cell_type": "markdown",
   "metadata": {},
   "source": [
    "## Funciones Lambda\n",
    "\n",
    "Las funciones lambda son funciones anónimas en Python. Son útiles para tareas pequeñas y rápidas donde no queremos definir una función completa usando def. La sintaxis básica es `lambda argumentos: expresión`."
   ]
  },
  {
   "cell_type": "code",
   "execution_count": 1,
   "metadata": {},
   "outputs": [
    {
     "name": "stdout",
     "output_type": "stream",
     "text": [
      "8\n",
      "8\n"
     ]
    }
   ],
   "source": [
    "# Función tradicional\n",
    "def sumar(a, b):\n",
    "    return a + b\n",
    "\n",
    "# Función lambda\n",
    "sumar_lambda = lambda a, b: a + b\n",
    "\n",
    "print(sumar(3, 5))         # Output: 8\n",
    "print(sumar_lambda(3, 5))  # Output: 8"
   ]
  },
  {
   "cell_type": "markdown",
   "metadata": {},
   "source": [
    "Como pueden ver, las funciones lambda son concisas y útiles para operaciones simples. Sin embargo, debido a su sintaxis compacta, pueden ser menos legibles para operaciones más complejas."
   ]
  },
  {
   "cell_type": "markdown",
   "metadata": {},
   "source": [
    "### Uso en Funciones de Orden Superior\n",
    "Las funciones lambda son especialmente útiles cuando se utilizan con funciones de orden superior como `map`, `filter` y `reduce`."
   ]
  },
  {
   "cell_type": "code",
   "execution_count": 2,
   "metadata": {},
   "outputs": [
    {
     "name": "stdout",
     "output_type": "stream",
     "text": [
      "[1, 4, 9, 16]\n",
      "[2, 4]\n",
      "10\n"
     ]
    }
   ],
   "source": [
    "# Ejemplo con map\n",
    "numeros = [1, 2, 3, 4]\n",
    "cuadrados = map(lambda x: x ** 2, numeros)\n",
    "print(list(cuadrados))  # Output: [1, 4, 9, 16]\n",
    "\n",
    "# Ejemplo con filter\n",
    "pares = filter(lambda x: x % 2 == 0, numeros)\n",
    "print(list(pares))  # Output: [2, 4]\n",
    "\n",
    "# Ejemplo con reduce (necesita importarse desde functools)\n",
    "from functools import reduce\n",
    "suma = reduce(lambda x, y: x + y, numeros)\n",
    "print(suma)  # Output: 10"
   ]
  },
  {
   "cell_type": "markdown",
   "metadata": {},
   "source": [
    "En estos ejemplos, map aplica una función a todos los elementos de una lista, filter selecciona los elementos que cumplen una condición y reduce combina todos los elementos de una lista utilizando una función. Las funciones lambda hacen que estas operaciones sean más compactas y fáciles de leer."
   ]
  },
  {
   "cell_type": "markdown",
   "metadata": {},
   "source": [
    "## Decoradores\n",
    "\n",
    "Los decoradores en Python son una forma poderosa de modificar el comportamiento de una función o método. Un decorador es una función que toma otra función y extiende su comportamiento sin modificarla explícitamente. Los decoradores se aplican utilizando la sintaxis `@decorador` justo antes de la definición de la función que queremos decorar.\n"
   ]
  },
  {
   "cell_type": "code",
   "execution_count": 3,
   "metadata": {},
   "outputs": [
    {
     "name": "stdout",
     "output_type": "stream",
     "text": [
      "Función decorada\n",
      "Hola, Ana\n",
      "Terminando la función decorada\n"
     ]
    }
   ],
   "source": [
    "def decorador(func):\n",
    "    def nueva_funcion(*args, **kwargs):\n",
    "        print(\"Función decorada\")\n",
    "        resultado = func(*args, **kwargs)\n",
    "        print(\"Terminando la función decorada\")\n",
    "        return resultado\n",
    "    return nueva_funcion\n",
    "\n",
    "@decorador\n",
    "def saludar(nombre):\n",
    "    print(f\"Hola, {nombre}\")\n",
    "\n",
    "saludar(\"Ana\")\n",
    "# Output:\n",
    "# Función decorada\n",
    "# Hola, Ana\n",
    "# Terminando la función decorada"
   ]
  },
  {
   "cell_type": "markdown",
   "metadata": {},
   "source": [
    "`decorador` en este caso es la función que toma `func` como argumento y define una nueva función `nueva_funcion` que imprime mensajes antes y después de llamar a `func`. Luego aplicamos @decorador a la función saludar, lo que modifica su comportamiento para incluir estos mensajes adicionales.\n",
    "\n",
    "Se usa para cambiar el comportaiento de la función, por ejemplo, imprimir antes y después, sin modificar el código de la función original."
   ]
  },
  {
   "cell_type": "markdown",
   "metadata": {},
   "source": [
    "### Decoradores con argumentos\n",
    "A veces, necesitamos que nuestros decoradores acepten argumentos. Esto se logra añadiendo una capa adicional de funciones."
   ]
  },
  {
   "cell_type": "code",
   "execution_count": null,
   "metadata": {},
   "outputs": [],
   "source": [
    "def decorador_con_argumentos(texto):\n",
    "    def decorador(func):\n",
    "        def nueva_funcion(*args, **kwargs):\n",
    "            print(f\"Iniciando: {texto}\")\n",
    "            resultado = func(*args, **kwargs)\n",
    "            print(f\"Terminando: {texto}\")\n",
    "            return resultado\n",
    "        return nueva_funcion\n",
    "    return decorador\n",
    "\n",
    "@decorador_con_argumentos(\"Proceso\")\n",
    "def proceso_importante():\n",
    "    print(\"Ejecutando el proceso importante...\")\n",
    "\n",
    "proceso_importante()\n",
    "# Output:\n",
    "# Iniciando: Proceso\n",
    "# Ejecutando el proceso importante...\n",
    "# Terminando: Proceso"
   ]
  },
  {
   "cell_type": "markdown",
   "metadata": {},
   "source": [
    "### Decoradores de clase\n",
    "\n",
    "Los decoradores también pueden ser aplicados a clases. Permiten modificar el comportamiento de las clases de manera similar a las funciones."
   ]
  },
  {
   "cell_type": "code",
   "execution_count": 5,
   "metadata": {},
   "outputs": [
    {
     "name": "stdout",
     "output_type": "stream",
     "text": [
      "Método existente\n",
      "Nuevo método agregado\n"
     ]
    }
   ],
   "source": [
    "def agregar_metodo(cls):\n",
    "    cls.nuevo_metodo = lambda self: print(\"Nuevo método agregado\")\n",
    "    return cls\n",
    "\n",
    "@agregar_metodo\n",
    "class MiClase:\n",
    "    def metodo_existente(self):\n",
    "        print(\"Método existente\")\n",
    "\n",
    "obj = MiClase()\n",
    "obj.metodo_existente()  # Output: Método existente\n",
    "obj.nuevo_metodo()      # Output: Nuevo método agregado"
   ]
  },
  {
   "cell_type": "markdown",
   "metadata": {},
   "source": [
    "## Métodos Mágicos (Dunder Methods)\n",
    "\n",
    "Los métodos mágicos, también conocidos como métodos especiales o dunder methods (por el doble guión bajo), permiten definir el comportamiento de operadores y funciones especiales en tus clases. Estos métodos siempre comienzan y terminan con dobles guiones bajos.\n",
    "\n",
    "Ejemplo de Métodos Mágicos Comunes:\n",
    "- `__init__`: Inicializa una nueva instancia de la clase.\n",
    "- `__str__`: Devuelve una representación legible de la instancia.\n",
    "- `__repr__`: Devuelve una representación más detallada de la instancia.\n",
    "- `__add__`: Define el comportamiento del operador +.\n",
    "- `__len__`: Define el comportamiento de la función len()."
   ]
  },
  {
   "cell_type": "code",
   "execution_count": 4,
   "metadata": {},
   "outputs": [
    {
     "name": "stdout",
     "output_type": "stream",
     "text": [
      "Punto(2, 3)\n",
      "Punto(4, 5)\n",
      "Punto(6, 8)\n",
      "3\n"
     ]
    }
   ],
   "source": [
    "class Punto:\n",
    "    def __init__(self, x, y):\n",
    "        self.x = x\n",
    "        self.y = y\n",
    "\n",
    "    def __str__(self):\n",
    "        return f\"Punto({self.x}, {self.y})\"\n",
    "\n",
    "    def __add__(self, otro):\n",
    "        return Punto(self.x + otro.x, self.y + otro.y)\n",
    "\n",
    "    def __len__(self):\n",
    "        return int((self.x**2 + self.y**2) ** 0.5)\n",
    "\n",
    "# Uso de la clase Punto\n",
    "p1 = Punto(2, 3)\n",
    "p2 = Punto(4, 5)\n",
    "\n",
    "print(p1)  # Output: Punto(2, 3)\n",
    "print(p2)  # Output: Punto(4, 5)\n",
    "\n",
    "p3 = p1 + p2\n",
    "print(p3)  # Output: Punto(6, 8)\n",
    "\n",
    "print(len(p1))  # Output: 3"
   ]
  },
  {
   "cell_type": "markdown",
   "metadata": {},
   "source": [
    "En este ejemplo, `__init__` inicializa los atributos `x` y `y` (como habiamos visto en la clase anterior), `__str__` devuelve una representación legible del objeto, `__add__` permite sumar dos objetos Punto y `__len__` calcula la distancia del punto al origen."
   ]
  },
  {
   "cell_type": "markdown",
   "metadata": {},
   "source": [
    "## Ejercicios"
   ]
  },
  {
   "cell_type": "markdown",
   "metadata": {},
   "source": [
    "1. Caminos en un Laberinto:\n",
    "\n",
    "Escribe una función que encuentre todos los caminos posibles en un laberinto desde una entrada hasta una salida. El laberinto se representa como una lista de listas, donde 0 representa un camino libre y 1 representa una pared. La función debe devolver una lista de caminos, donde cada camino es una lista de coordenadas (tuplas) desde la entrada hasta la salida."
   ]
  },
  {
   "cell_type": "code",
   "execution_count": null,
   "metadata": {},
   "outputs": [],
   "source": [
    "# Ejemplo de uso\n",
    "laberinto = [\n",
    "    [0, 1, 0, 0, 0],\n",
    "    [0, 1, 0, 1, 0],\n",
    "    [0, 0, 0, 1, 0],\n",
    "    [0, 1, 1, 0, 0],\n",
    "    [0, 0, 0, 0, 0]\n",
    "]\n",
    "entrada = (0, 0)\n",
    "salida = (4, 4)"
   ]
  },
  {
   "cell_type": "markdown",
   "metadata": {},
   "source": [
    "2. Sudoku Solver:\n",
    "\n",
    "Escribe un programa que resuelva un tablero de Sudoku. El tablero se representa como una lista de listas de enteros, donde 0 representa una celda vacía. Usa recursión y backtracking para encontrar la solución."
   ]
  },
  {
   "cell_type": "code",
   "execution_count": null,
   "metadata": {},
   "outputs": [],
   "source": [
    "# Ejemplo de uso\n",
    "tablero = [\n",
    "    [5, 3, 0, 0, 7, 0, 0, 0, 0],\n",
    "    [6, 0, 0, 1, 9, 5, 0, 0, 0],\n",
    "    [0, 9, 8, 0, 0, 0, 0, 6, 0],\n",
    "    [8, 0, 0, 0, 6, 0, 0, 0, 3],\n",
    "    [4, 0, 0, 8, 0, 3, 0, 0, 1],\n",
    "    [7, 0, 0, 0, 2, 0, 0, 0, 6],\n",
    "    [0, 6, 0, 0, 0, 0, 2, 8, 0],\n",
    "    [0, 0, 0, 4, 1, 9, 0, 0, 5],\n",
    "    [0, 0, 0, 0, 8, 0, 0, 7, 9]\n",
    "]"
   ]
  },
  {
   "cell_type": "markdown",
   "metadata": {},
   "source": [
    "3. Generador de Permutaciones:\n",
    "\n",
    "Escribe una función que genere todas las permutaciones posibles de una lista de números. Usa recursión para generar las permutaciones."
   ]
  },
  {
   "cell_type": "markdown",
   "metadata": {},
   "source": [
    "4. Método Mágico para Conjuntos:\n",
    "\n",
    "Crea una clase Conjunto que represente un conjunto de enteros. Implementa los métodos mágicos `__add__` para la unión de conjuntos, `__mul__` para la intersección de conjuntos y `__str__` para la representación en cadena del conjunto."
   ]
  },
  {
   "cell_type": "markdown",
   "metadata": {},
   "source": [
    "5. Sistema de Gestión de Tareas\n",
    "\n",
    "Crea un sistema de gestión de tareas que permita agregar, eliminar y listar tareas. Cada tarea debe tener un título, una descripción y una fecha de vencimiento. Usa una clase `Tarea` y una clase `GestorTareas` para manejar las operaciones.\n",
    "\n",
    "- Implementa la clase `Tarea` con los atributos `titulo`, `descripcion` y `fecha_vencimiento`.\n",
    "- Implementa la clase `GestorTareas` con métodos para agregar, eliminar y listar tareas.\n",
    "- Usa funciones lambda y decoradores para validar las entradas y medir el tiempo de ejecución de los métodos."
   ]
  },
  {
   "cell_type": "markdown",
   "metadata": {},
   "source": [
    "6: Sistema de Inventario de Productos\n",
    "\n",
    "Crea un sistema de inventario para una tienda que permita agregar, eliminar, listar y buscar productos. Cada producto debe tener un nombre, una categoría y un precio. Usa clases y métodos avanzados para implementar el sistema.\n",
    "\n",
    "- Implementa la clase `Producto` con los atributos `nombre`, `categoria` y `precio`.\n",
    "- Implementa la clase `Inventario` con métodos para agregar, eliminar, listar y buscar productos.\n",
    "- Usa el método mágico (`__eq__`) para comparar productos por precio."
   ]
  }
 ],
 "metadata": {
  "kernelspec": {
   "display_name": "Python 3",
   "language": "python",
   "name": "python3"
  },
  "language_info": {
   "codemirror_mode": {
    "name": "ipython",
    "version": 3
   },
   "file_extension": ".py",
   "mimetype": "text/x-python",
   "name": "python",
   "nbconvert_exporter": "python",
   "pygments_lexer": "ipython3",
   "version": "3.8.10"
  }
 },
 "nbformat": 4,
 "nbformat_minor": 2
}
