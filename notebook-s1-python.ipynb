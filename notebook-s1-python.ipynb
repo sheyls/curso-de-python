{
 "cells": [
  {
   "cell_type": "markdown",
   "metadata": {},
   "source": [
    "# **Semana 1: Introducción a Python**\n",
    "\n",
    "¡Bienvenidos a la primera semana del curso de Python! Hoy cubriremos los conceptos básicos, operadores y lógica booleana, así como las funciones integradas de Python para la entrada y salida de datos.\n"
   ]
  },
  {
   "cell_type": "markdown",
   "metadata": {},
   "source": [
    "## 1. Conceptos Básicos\n",
    "\n",
    "### Variables y Tipos de Datos\n",
    "En Python, puedes almacenar datos en variables y trabajar con diferentes tipos de datos como int, float, str y bool (vamos, los tipos de toda la vida en todos os lenguajes de programación)."
   ]
  },
  {
   "cell_type": "code",
   "execution_count": 16,
   "metadata": {},
   "outputs": [
    {
     "ename": "NameError",
     "evalue": "name 'k' is not defined",
     "output_type": "error",
     "traceback": [
      "\u001b[0;31m---------------------------------------------------------------------------\u001b[0m",
      "\u001b[0;31mNameError\u001b[0m                                 Traceback (most recent call last)",
      "Cell \u001b[0;32mIn[16], line 3\u001b[0m\n\u001b[1;32m      1\u001b[0m \u001b[38;5;66;03m# Definición de variables\u001b[39;00m\n\u001b[1;32m      2\u001b[0m numero_entero \u001b[38;5;241m=\u001b[39m \u001b[38;5;241m10\u001b[39m\n\u001b[0;32m----> 3\u001b[0m numero_flotante \u001b[38;5;241m=\u001b[39m \u001b[43mk\u001b[49m\n\u001b[1;32m      4\u001b[0m texto \u001b[38;5;241m=\u001b[39m \u001b[38;5;124m\"\u001b[39m\u001b[38;5;124m¡Hola, Python!\u001b[39m\u001b[38;5;124m\"\u001b[39m\n\u001b[1;32m      5\u001b[0m es_verdadero \u001b[38;5;241m=\u001b[39m \u001b[38;5;28;01mTrue\u001b[39;00m\n",
      "\u001b[0;31mNameError\u001b[0m: name 'k' is not defined"
     ]
    }
   ],
   "source": [
    "# Definición de variables\n",
    "numero_entero = 10\n",
    "numero_flotante = k\n",
    "texto = \"¡Hola, Python!\"\n",
    "es_verdadero = True\n",
    "\n",
    "# Mostrar los tipos de datos\n",
    "print(type(numero_entero))\n",
    "print(type(numero_flotante))\n",
    "print(type(texto))\n",
    "print(type(es_verdadero))"
   ]
  },
  {
   "cell_type": "markdown",
   "metadata": {},
   "source": [
    "Es importante notar que para declarar una variable no es necesario poner el tipo del dato, sin embargo, Python después infiere el tipo correctamente."
   ]
  },
  {
   "cell_type": "markdown",
   "metadata": {},
   "source": [
    "## 2. Operadores y Lógica Booleana\n",
    "\n",
    "### Operadores Aritméticos\n",
    "Puedes usar operadores aritméticos para realizar cálculos con números."
   ]
  },
  {
   "cell_type": "code",
   "execution_count": 10,
   "metadata": {},
   "outputs": [
    {
     "name": "stdout",
     "output_type": "stream",
     "text": [
      "Suma: 11\n",
      "Resta: 5\n",
      "Multiplicación: 24\n",
      "División: 2.6666666666666665\n",
      "Módulo: 2\n",
      "Potencia: 512\n"
     ]
    }
   ],
   "source": [
    "a = 8\n",
    "b = 3\n",
    "\n",
    "# Operadores aritméticos\n",
    "suma = a + b\n",
    "resta = a - b\n",
    "multiplicacion = a * b\n",
    "division = a / b\n",
    "modulo = a % b\n",
    "potencia = a ** b\n",
    "\n",
    "\n",
    "print(\"Suma:\", suma)\n",
    "print(\"Resta:\", resta)\n",
    "print(\"Multiplicación:\", multiplicacion)\n",
    "print(\"División:\", division)\n",
    "print(\"Módulo:\", modulo)\n",
    "print(\"Potencia:\", potencia)"
   ]
  },
  {
   "cell_type": "markdown",
   "metadata": {},
   "source": [
    "### Lógica Booleana\n",
    "La lógica booleana se usa para comparar valores y obtener True o False."
   ]
  },
  {
   "cell_type": "code",
   "execution_count": 11,
   "metadata": {},
   "outputs": [
    {
     "name": "stdout",
     "output_type": "stream",
     "text": [
      "Igual: False\n",
      "Mayor que: False\n",
      "Menor o igual: True\n",
      "Condición AND: True\n",
      "Condición OR: True\n",
      "Condición NOT: True\n"
     ]
    }
   ],
   "source": [
    "x = 5\n",
    "y = 10\n",
    "\n",
    "# Operadores lógicos\n",
    "igual = x == y\n",
    "mayor_que = x > y\n",
    "menor_igual = x <= y\n",
    "condicion_and = (x < y) and (y < 15)\n",
    "condicion_or = (x < y) or (y > 15)\n",
    "condicion_not = not (x == y)\n",
    "\n",
    "print(\"Igual:\", igual)\n",
    "print(\"Mayor que:\", mayor_que)\n",
    "print(\"Menor o igual:\", menor_igual)\n",
    "print(\"Condición AND:\", condicion_and)\n",
    "print(\"Condición OR:\", condicion_or)\n",
    "print(\"Condición NOT:\", condicion_not)"
   ]
  },
  {
   "cell_type": "markdown",
   "metadata": {},
   "source": [
    "## 3. Funciones Integradas Básicas: Entrada y Salida\n",
    "\n",
    "**Salida**: `print()`\n",
    "La función print() permite mostrar información en la pantalla.\n",
    "Comparen el \"Hello World\" de Python con el de otros lenguajes."
   ]
  },
  {
   "cell_type": "code",
   "execution_count": 12,
   "metadata": {},
   "outputs": [
    {
     "name": "stdout",
     "output_type": "stream",
     "text": [
      "Hello, World!\n"
     ]
    }
   ],
   "source": [
    "print(\"Hello, World!\")"
   ]
  },
  {
   "cell_type": "markdown",
   "metadata": {},
   "source": [
    "**Entrada**: `input()`\n",
    "La función input() se utiliza para recibir información del usuario."
   ]
  },
  {
   "cell_type": "code",
   "execution_count": 13,
   "metadata": {},
   "outputs": [
    {
     "name": "stdout",
     "output_type": "stream",
     "text": [
      "Qué bolá, hhh\n"
     ]
    }
   ],
   "source": [
    "name = input(\"¿Cuál es tu nombre?\")\n",
    "print(\"Qué bolá,\", name)"
   ]
  },
  {
   "cell_type": "code",
   "execution_count": 14,
   "metadata": {},
   "outputs": [
    {
     "name": "stdout",
     "output_type": "stream",
     "text": [
      "Tu edad si fueras un/una perr@ sería 7777777\n"
     ]
    }
   ],
   "source": [
    "age = input(\"¿Cuál es tu edad?\")\n",
    "dog_age = age * 7\n",
    "print(f\"Tu edad si fueras un/una perr@ sería {dog_age}\")"
   ]
  },
  {
   "cell_type": "markdown",
   "metadata": {},
   "source": [
    "Que pasó aquí? pues que la funcion `input()` lo que lee siempre es un `string` por tanto debemos castear la variable a `int`\n",
    "\n",
    "Vieron que interesante forma de repetir una misma cadena una `x` cantidad de veces?\n",
    "La multiplicacion de un `string` por un `int` esta programada para que sea de esa manera."
   ]
  },
  {
   "cell_type": "code",
   "execution_count": 18,
   "metadata": {},
   "outputs": [
    {
     "ename": "ValueError",
     "evalue": "invalid literal for int() with base 10: ''",
     "output_type": "error",
     "traceback": [
      "\u001b[0;31m---------------------------------------------------------------------------\u001b[0m",
      "\u001b[0;31mValueError\u001b[0m                                Traceback (most recent call last)",
      "Cell \u001b[0;32mIn[18], line 2\u001b[0m\n\u001b[1;32m      1\u001b[0m age \u001b[38;5;241m=\u001b[39m \u001b[38;5;28minput\u001b[39m(\u001b[38;5;124m\"\u001b[39m\u001b[38;5;124m¿Cuál es tu edad?\u001b[39m\u001b[38;5;124m\"\u001b[39m)\n\u001b[0;32m----> 2\u001b[0m dog_age \u001b[38;5;241m=\u001b[39m \u001b[38;5;28;43mint\u001b[39;49m\u001b[43m(\u001b[49m\u001b[43mage\u001b[49m\u001b[43m)\u001b[49m \u001b[38;5;241m*\u001b[39m \u001b[38;5;241m7\u001b[39m\n\u001b[1;32m      3\u001b[0m \u001b[38;5;28mprint\u001b[39m(\u001b[38;5;28mtype\u001b[39m(age))\n\u001b[1;32m      4\u001b[0m \u001b[38;5;28mprint\u001b[39m(\u001b[38;5;124mf\u001b[39m\u001b[38;5;124m\"\u001b[39m\u001b[38;5;124mTu edad si fueras un/una perr@ sería \u001b[39m\u001b[38;5;132;01m{\u001b[39;00mdog_age\u001b[38;5;132;01m}\u001b[39;00m\u001b[38;5;124m\"\u001b[39m)\n",
      "\u001b[0;31mValueError\u001b[0m: invalid literal for int() with base 10: ''"
     ]
    }
   ],
   "source": [
    "age = input(\"¿Cuál es tu edad?\")\n",
    "dog_age = int(age) * 7\n",
    "print(type(age)) \n",
    "print(f\"Tu edad si fueras un/una perr@ sería {3 + 4}\")"
   ]
  },
  {
   "cell_type": "markdown",
   "metadata": {},
   "source": [
    "## Buenas Prácticas en Python\n",
    "\n",
    "Es importante seguir buenas prácticas al programar en Python para escribir código claro, eficiente y fácil de mantener. Aquí hay algunas sugerencias:\n",
    "\n",
    "### 1. PEP 8: Estilo de Código** ([Ver PEP 8](https://www.python.org/dev/peps/pep-0008/))\n",
    "\n",
    "- Sigue las guías de estilo de PEP 8, que es el estándar oficial para Python.\n",
    "- Usa sangrías de 4 espacios (Python se basa en la indentación).\n",
    "- Mantén las líneas de código por debajo de los 79 caracteres.\n",
    "- Usa nombres descriptivos para variables y funciones.\n",
    "\n",
    "### 2. Documentación Clara\n",
    "- Agrega comentarios para explicar partes complejas del código, pero no abuses de ellos.\n",
    "\n"
   ]
  },
  {
   "cell_type": "markdown",
   "metadata": {},
   "source": [
    "## Por si quieres ser un tanque\n",
    "Usa lo que vimos en clase para hacer un programa que:\n",
    "\n",
    "1. Reciba un dato del usuario.\n",
    "2. Use ese dato dentro de una fórmula (la fórmula que quieras).\n",
    "3. Agregale sazón con alguito de lógica booleano o algo más ;)\n",
    "2. Devuelva el resultado final de una forma divertida (Si nos reimos en el aula tienes +0.5 en la evaluación del curso)\n",
    "Recuerda usar buenas prácticas ;)"
   ]
  },
  {
   "cell_type": "code",
   "execution_count": null,
   "metadata": {},
   "outputs": [],
   "source": [
    " "
   ]
  }
 ],
 "metadata": {
  "kernelspec": {
   "display_name": "Python 3",
   "language": "python",
   "name": "python3"
  },
  "language_info": {
   "codemirror_mode": {
    "name": "ipython",
    "version": 3
   },
   "file_extension": ".py",
   "mimetype": "text/x-python",
   "name": "python",
   "nbconvert_exporter": "python",
   "pygments_lexer": "ipython3",
   "version": "3.10.0"
  }
 },
 "nbformat": 4,
 "nbformat_minor": 2
}
