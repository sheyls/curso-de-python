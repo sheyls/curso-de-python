{
 "cells": [
  {
   "cell_type": "markdown",
   "metadata": {},
   "source": [
    "# **Semana 2: Sintaxis y Estructuras Básicas**"
   ]
  },
  {
   "cell_type": "markdown",
   "metadata": {},
   "source": [
    "## 1. Control de Flujo\n",
    "\n",
    "### Condicionales (if, else, elif)\n",
    "La estructura condicional permite ejecutar diferentes bloques de código dependiendo del resultado de una expresión booleana.\n"
   ]
  },
  {
   "cell_type": "code",
   "execution_count": 73,
   "metadata": {},
   "outputs": [
    {
     "name": "stdout",
     "output_type": "stream",
     "text": [
      "Eres un Jedi en entrenamiento.\n"
     ]
    }
   ],
   "source": [
    "edad = int(input(\"Ingresa tu edad: \"))\n",
    "\n",
    "if edad < 18:\n",
    "    print(\"Eres un Jedi en entrenamiento.\")\n",
    "elif 18 <= edad < 65:\n",
    "    print(\"Eres un Jedi en plena acción.\")\n",
    "else:\n",
    "    print(\"Eres un Maestro Jedi.\")"
   ]
  },
  {
   "cell_type": "markdown",
   "metadata": {},
   "source": [
    "### Bucles for\n",
    "El bucle for como en otros lenguajes, se usa para repetir código e iterar sobre secuencias.\n",
    "\n",
    "#### Iterar sobre una lista:"
   ]
  },
  {
   "cell_type": "code",
   "execution_count": 74,
   "metadata": {},
   "outputs": [
    {
     "name": "stdout",
     "output_type": "stream",
     "text": [
      "Me gusta el coquito\n",
      "Me gusta el platanito\n",
      "Me gusta el mango\n"
     ]
    }
   ],
   "source": [
    "frutas = [\"coquito\", \"platanito\", \"mango\"]\n",
    "for fruta in frutas:\n",
    "    print(f\"Me gusta el {fruta}\")"
   ]
  },
  {
   "cell_type": "markdown",
   "metadata": {},
   "source": [
    "#### Iterar sobre una cadena:"
   ]
  },
  {
   "cell_type": "code",
   "execution_count": 1,
   "metadata": {},
   "outputs": [
    {
     "name": "stdout",
     "output_type": "stream",
     "text": [
      "P\n",
      "y\n",
      "t\n",
      "h\n",
      "o\n",
      "n\n"
     ]
    }
   ],
   "source": [
    "mensaje = \"Python\"\n",
    "for letra in mensaje:\n",
    "    print(letra)"
   ]
  },
  {
   "cell_type": "markdown",
   "metadata": {},
   "source": [
    "#### Iterar con range:"
   ]
  },
  {
   "cell_type": "code",
   "execution_count": 9,
   "metadata": {},
   "outputs": [
    {
     "name": "stdout",
     "output_type": "stream",
     "text": [
      "Número 1\n",
      "Número 6\n",
      "Número 11\n",
      "Número 16\n"
     ]
    }
   ],
   "source": [
    "a = 5\n",
    "for i in range(1,20,a):\n",
    "    print(f\"Número {i}\")"
   ]
  },
  {
   "cell_type": "markdown",
   "metadata": {},
   "source": [
    "#### Enumerar con enumerate:\n",
    "Te permite obtener el índice y el valor al iterar."
   ]
  },
  {
   "cell_type": "code",
   "execution_count": 77,
   "metadata": {},
   "outputs": [
    {
     "name": "stdout",
     "output_type": "stream",
     "text": [
      "Color 1: rojo\n",
      "Color 2: verde\n",
      "Color 3: azul\n"
     ]
    }
   ],
   "source": [
    "colores = [\"rojo\", \"verde\", \"azul\"]\n",
    "for indice, color in enumerate(colores):\n",
    "    print(f\"Color {indice + 1}: {color}\")"
   ]
  },
  {
   "cell_type": "markdown",
   "metadata": {},
   "source": [
    "### Bucles while\n",
    "El bucle while repite una acción mientras una condición sea verdadera. Es útil cuando no se conoce de antemano el número de iteraciones."
   ]
  },
  {
   "cell_type": "code",
   "execution_count": 78,
   "metadata": {},
   "outputs": [
    {
     "name": "stdout",
     "output_type": "stream",
     "text": [
      "Contando: 1\n",
      "Contando: 2\n",
      "Contando: 3\n",
      "Contando: 4\n",
      "Contando: 5\n"
     ]
    }
   ],
   "source": [
    "contador = 1\n",
    "while contador <= 5:\n",
    "    print(f\"Contando: {contador}\")\n",
    "    contador += 1"
   ]
  },
  {
   "cell_type": "code",
   "execution_count": 10,
   "metadata": {},
   "outputs": [
    {
     "name": "stdout",
     "output_type": "stream",
     "text": [
      "¡Bienvenido de vuelta al club secreto!\n"
     ]
    }
   ],
   "source": [
    "contraseña = \"\"\n",
    "while contraseña != \"enanitosverdes\":\n",
    "    contraseña = input(\"Introduce la contraseña: \")\n",
    "print(\"¡Bienvenido de vuelta al club secreto!\")"
   ]
  },
  {
   "cell_type": "markdown",
   "metadata": {},
   "source": [
    "## 2. Funciones\n",
    "\n",
    "### Definir Funciones\n",
    "Las funciones son bloques de código reutilizables que realizan una tarea específica."
   ]
  },
  {
   "cell_type": "code",
   "execution_count": 80,
   "metadata": {},
   "outputs": [
    {
     "name": "stdout",
     "output_type": "stream",
     "text": [
      "Bienvenid@ al país de las maravillas, Alicia!\n"
     ]
    }
   ],
   "source": [
    "# Declarar la función\n",
    "def saludar(nombre):\n",
    "    print(f\"Bienvenid@ al país de las maravillas, {nombre}!\")\n",
    "\n",
    "# Llamar a la función\n",
    "saludar(\"Alicia\")"
   ]
  },
  {
   "cell_type": "markdown",
   "metadata": {},
   "source": [
    "### Funciones con parámetros opcionales:"
   ]
  },
  {
   "cell_type": "code",
   "execution_count": 81,
   "metadata": {},
   "outputs": [
    {
     "name": "stdout",
     "output_type": "stream",
     "text": [
      "Buenos días, Patricio!\n",
      "Hola, Bob!\n"
     ]
    }
   ],
   "source": [
    "def saludar(nombre, saludo=\"Hola\"):\n",
    "    print(f\"{saludo}, {nombre}!\")\n",
    "\n",
    "saludar(\"Patricio\", \"Buenos días\")\n",
    "saludar(\"Bob\")"
   ]
  },
  {
   "cell_type": "markdown",
   "metadata": {},
   "source": [
    "### Funciones con Retorno"
   ]
  },
  {
   "cell_type": "code",
   "execution_count": 15,
   "metadata": {},
   "outputs": [
    {
     "name": "stdout",
     "output_type": "stream",
     "text": [
      "<class 'tuple'>\n",
      "El cuadrado de 4 es (2, 4)\n"
     ]
    }
   ],
   "source": [
    "def cuadrado(numero):\n",
    "    a = 7\n",
    "    b = 8\n",
    "    return a, b\n",
    "\n",
    "a = cuadrado(4)\n",
    "print(type(a))\n",
    "print(f\"El cuadrado de 4 es {resultado}\")"
   ]
  },
  {
   "cell_type": "markdown",
   "metadata": {},
   "source": [
    "#### Funciones con múltiples valores de retorno:"
   ]
  },
  {
   "cell_type": "code",
   "execution_count": 83,
   "metadata": {},
   "outputs": [
    {
     "name": "stdout",
     "output_type": "stream",
     "text": [
      "Suma: 12, \n",
      "Resta: 8, \n",
      "Multiplicación: 20, \n",
      "División: 5.0\n"
     ]
    }
   ],
   "source": [
    "def operaciones(a, b):\n",
    "    return a + b, a - b, a * b, a / b\n",
    "\n",
    "suma, resta, multiplicacion, division = operaciones(10, 2)\n",
    "print(f\"Suma: {suma}, \\nResta: {resta}, \\nMultiplicación: {multiplicacion}, \\nDivisión: {division}\")"
   ]
  },
  {
   "cell_type": "markdown",
   "metadata": {},
   "source": [
    "## 3. Estructuras de Datos\n",
    "\n",
    "### Listas \n",
    "\n",
    "Las listas son secuencias ordenadas y mutables."
   ]
  },
  {
   "cell_type": "code",
   "execution_count": 84,
   "metadata": {},
   "outputs": [
    {
     "name": "stdout",
     "output_type": "stream",
     "text": [
      "[0, 2, 3, 4, 5]\n"
     ]
    }
   ],
   "source": [
    "numeros = [1, 2, 3, 4]\n",
    "numeros.append(5)\n",
    "numeros[0] = 0\n",
    "\n",
    "print(numeros)"
   ]
  },
  {
   "cell_type": "markdown",
   "metadata": {},
   "source": [
    "### Tuplas\n",
    "Las tuplas son secuencias ordenadas e inmutables."
   ]
  },
  {
   "cell_type": "code",
   "execution_count": 85,
   "metadata": {},
   "outputs": [
    {
     "name": "stdout",
     "output_type": "stream",
     "text": [
      "azul\n",
      "rojo\n",
      "verde\n"
     ]
    },
    {
     "ename": "TypeError",
     "evalue": "'tuple' object does not support item assignment",
     "output_type": "error",
     "traceback": [
      "\u001b[0;31m---------------------------------------------------------------------------\u001b[0m",
      "\u001b[0;31mTypeError\u001b[0m                                 Traceback (most recent call last)",
      "Cell \u001b[0;32mIn[85], line 7\u001b[0m\n\u001b[1;32m      4\u001b[0m \u001b[38;5;28mprint\u001b[39m(colores[\u001b[38;5;241m1\u001b[39m])\n\u001b[1;32m      6\u001b[0m \u001b[38;5;66;03m# Esto va a dar un error\u001b[39;00m\n\u001b[0;32m----> 7\u001b[0m \u001b[43mcolores\u001b[49m\u001b[43m[\u001b[49m\u001b[38;5;241;43m0\u001b[39;49m\u001b[43m]\u001b[49m \u001b[38;5;241m=\u001b[39m \u001b[38;5;124m\"\u001b[39m\u001b[38;5;124mblanco\u001b[39m\u001b[38;5;124m\"\u001b[39m\n",
      "\u001b[0;31mTypeError\u001b[0m: 'tuple' object does not support item assignment"
     ]
    }
   ],
   "source": [
    "colores = (\"rojo\", \"verde\", \"azul\")\n",
    "print(colores[2])\n",
    "print(colores[0])\n",
    "print(colores[1])\n",
    "\n",
    "# Esto va a dar un error\n",
    "colores[0] = \"blanco\""
   ]
  },
  {
   "cell_type": "markdown",
   "metadata": {},
   "source": [
    "### Diccionarios\n",
    "Los diccionarios almacenan pares clave-valor. "
   ]
  },
  {
   "cell_type": "code",
   "execution_count": null,
   "metadata": {},
   "outputs": [
    {
     "name": "stdout",
     "output_type": "stream",
     "text": [
      "{'ChocolateMC': 25, 'LKimii': 30, 'Bebeshito': 22}\n"
     ]
    }
   ],
   "source": [
    "edades = {\"ChocolateMC\": 25, \"LKimii\": 30}\n",
    "edades[\"Bebeshito\"] = 22\n",
    "print(edades)\n"
   ]
  },
  {
   "cell_type": "markdown",
   "metadata": {},
   "source": [
    "### Conjuntos\n",
    "Los conjuntos almacenan elementos únicos sin un orden específico."
   ]
  },
  {
   "cell_type": "code",
   "execution_count": null,
   "metadata": {},
   "outputs": [
    {
     "name": "stdout",
     "output_type": "stream",
     "text": [
      "{'pez', 'perro', 'pájaro'}\n"
     ]
    }
   ],
   "source": [
    "animales = {\"gato\", \"perro\", \"pájaro\"}\n",
    "animales.add(\"pez\")\n",
    "\n",
    "# Volvemos a agregar un perro pero no se agrega porque ya hay uno\n",
    "animales.add(\"perro\")\n",
    "\n",
    "animales.discard(\"gato\")\n",
    "print(animales)"
   ]
  },
  {
   "cell_type": "markdown",
   "metadata": {},
   "source": [
    "## **Azuquita Sintáctica en Python**\n",
    "\n",
    "La azucar sintáctica se refiere a las características del lenguaje que no mejoran el rendimiento, sino que están diseñadas para hacer que el código sea más legible y simple. Aquí hay algunas formas en las que Python nos hace la vida más fácil:\n"
   ]
  },
  {
   "cell_type": "markdown",
   "metadata": {},
   "source": [
    "### **Slicing de Listas con `:`**\n",
    "\n",
    "El slicing te permite extraer partes de una lista especificando un rango. La sintaxis básica es `lista[inicio:fin]`, donde:\n",
    "- `inicio` es el índice del primer elemento a incluir.\n",
    "- `fin` es el índice donde el corte termina, **sin incluir** el elemento en `fin`.\n"
   ]
  },
  {
   "cell_type": "code",
   "execution_count": 86,
   "metadata": {},
   "outputs": [
    {
     "name": "stdout",
     "output_type": "stream",
     "text": [
      "[1, 2, 3]\n"
     ]
    }
   ],
   "source": [
    "numeros = [0, 1, 2, 3, 4, 5]\n",
    "# Obtener los elementos desde el índice 1 hasta el 3 (exclusivo)\n",
    "sublista = numeros[1:4]\n",
    "print(sublista)  # [1, 2, 3]"
   ]
  },
  {
   "cell_type": "markdown",
   "metadata": {},
   "source": [
    "#### **Paso (Step) en Slicing**\n",
    "Se puede especificar un tercer parámetro para indicar el paso, es decir, cuántos elementos se deben saltar. La sintaxis es `lista[inicio:fin:paso]`."
   ]
  },
  {
   "cell_type": "code",
   "execution_count": 87,
   "metadata": {},
   "outputs": [
    {
     "name": "stdout",
     "output_type": "stream",
     "text": [
      "[0, 2, 4]\n"
     ]
    }
   ],
   "source": [
    "# Obtener los elementos desde el índice 0 hasta el 5, con un paso de 2\n",
    "numeros_paso = numeros[0:6:2]\n",
    "print(numeros_paso)  # [0, 2, 4]"
   ]
  },
  {
   "cell_type": "markdown",
   "metadata": {},
   "source": [
    "#### **Índices Negativos**\n",
    "Python también permite usar índices negativos para referirse a elementos desde el final de la lista."
   ]
  },
  {
   "cell_type": "code",
   "execution_count": 88,
   "metadata": {},
   "outputs": [
    {
     "name": "stdout",
     "output_type": "stream",
     "text": [
      "[3, 4, 5]\n",
      "[4, 3, 2]\n"
     ]
    }
   ],
   "source": [
    "# Obtener los últimos tres elementos\n",
    "ultimos = numeros[-3:]\n",
    "print(ultimos)  # [3, 4, 5]\n",
    "\n",
    "# Obtener los elementos desde el penúltimo hasta el segundo\n",
    "penultimos = numeros[-2:1:-1]\n",
    "print(penultimos)  # [4, 3, 2]\n"
   ]
  },
  {
   "cell_type": "markdown",
   "metadata": {},
   "source": [
    "#### **Slicing con Omisión de Índices**\n",
    "Puedes omitir `inicio` o `fin` para obtener sublistas desde el comienzo o hasta el final."
   ]
  },
  {
   "cell_type": "code",
   "execution_count": 89,
   "metadata": {},
   "outputs": [
    {
     "name": "stdout",
     "output_type": "stream",
     "text": [
      "[0, 1, 2, 3]\n",
      "[2, 3, 4, 5]\n"
     ]
    }
   ],
   "source": [
    "# Desde el inicio hasta el índice 3 (exclusivo)\n",
    "print(numeros[:4])  # [0, 1, 2, 3]\n",
    "\n",
    "# Desde el índice 2 hasta el final\n",
    "print(numeros[2:])  # [2, 3, 4, 5]"
   ]
  },
  {
   "cell_type": "markdown",
   "metadata": {},
   "source": [
    "#### Comprensiones de Listas**\n",
    "Las comprensiones de listas permiten crear listas de manera más sencilla, sin necesidad de un bucle `for` tradicional."
   ]
  },
  {
   "cell_type": "code",
   "execution_count": 90,
   "metadata": {},
   "outputs": [
    {
     "name": "stdout",
     "output_type": "stream",
     "text": [
      "[0, 1, 4, 9, 16, 25, 36, 49, 64, 81]\n"
     ]
    }
   ],
   "source": [
    "# Crear una lista de cuadrados del 0 al 9\n",
    "cuadrados = [x**2 for x in range(10)]\n",
    "print(cuadrados)"
   ]
  },
  {
   "cell_type": "markdown",
   "metadata": {},
   "source": [
    "#### Expresiones Lambda\n",
    "Las funciones lambda permiten definir funciones pequeñas y de un solo uso de forma concisa."
   ]
  },
  {
   "cell_type": "code",
   "execution_count": 91,
   "metadata": {},
   "outputs": [
    {
     "name": "stdout",
     "output_type": "stream",
     "text": [
      "16\n"
     ]
    }
   ],
   "source": [
    "# Función lambda para calcular el cuadrado de un número\n",
    "cuadrado = lambda x: x**2\n",
    "print(cuadrado(4))"
   ]
  },
  {
   "cell_type": "markdown",
   "metadata": {},
   "source": [
    "#### Desempaquetado de Variables\n",
    "El desempaquetado de variables permite asignar múltiples valores de una lista o tupla en una sola línea."
   ]
  },
  {
   "cell_type": "code",
   "execution_count": 92,
   "metadata": {},
   "outputs": [
    {
     "name": "stdout",
     "output_type": "stream",
     "text": [
      "Bob Esponja Piña debajo del mar\n"
     ]
    }
   ],
   "source": [
    "# Desempaquetar una tupla en variables individuales\n",
    "nombre, apellido, ciudad = (\"Bob\", \"Esponja\", \"Piña debajo del mar\")\n",
    "print(nombre, apellido, ciudad)"
   ]
  },
  {
   "cell_type": "markdown",
   "metadata": {},
   "source": [
    "#### Operador Walrus (Python 3.8+)\n",
    "El operador walrus (:=) permite asignar valores dentro de expresiones, haciendo que el código sea más conciso."
   ]
  },
  {
   "cell_type": "code",
   "execution_count": 93,
   "metadata": {},
   "outputs": [
    {
     "name": "stdout",
     "output_type": "stream",
     "text": [
      "La palabra tiene 6 caracteres\n"
     ]
    }
   ],
   "source": [
    "# Usar el operador walrus para asignar un valor dentro de una condición\n",
    "if (longitud := len(\"Python\")) > 5:\n",
    "    print(f\"La palabra tiene {longitud} caracteres\")"
   ]
  },
  {
   "cell_type": "markdown",
   "metadata": {},
   "source": [
    "#### Asignación de Valores con `*`\n",
    "Se pueden asignar varios elementos de una lista a una variable utilizando el operador `*`."
   ]
  },
  {
   "cell_type": "code",
   "execution_count": 94,
   "metadata": {},
   "outputs": [
    {
     "name": "stdout",
     "output_type": "stream",
     "text": [
      "1 [2, 3, 4, 5]\n"
     ]
    }
   ],
   "source": [
    "# Asignar múltiples elementos restantes a una variable\n",
    "primero, *restantes = [1, 2, 3, 4, 5]\n",
    "print(primero, restantes)"
   ]
  },
  {
   "cell_type": "markdown",
   "metadata": {},
   "source": [
    "## Por si quieres ser un tanque\n",
    "Crea un programa que genere combinaciones aleatorias a partir de diferentes listas de elementos usando comprensiones de listas, expresiones lambda, f-strings y otras formas de azúcar sintáctica.\n",
    "\n",
    "1. Define grupos con elementos de cualquier tipo (pueden ser palabras, números, objetos, etc.).\n",
    "2. Usa una comprensión de listas para combinar los elementos de las tres listas en una estructura más compleja.\n",
    "3. Define una función lambda que elija una combinación al azar de la lista generada.\n",
    "4. Crea la funcion `generator`\n",
    "5. Usa una f-string para imprimir la combinación elegida."
   ]
  },
  {
   "cell_type": "code",
   "execution_count": 97,
   "metadata": {},
   "outputs": [
    {
     "name": "stdout",
     "output_type": "stream",
     "text": [
      "✨ El éxito es el éxito de la familia ✨\n"
     ]
    }
   ],
   "source": [
    "import random\n",
    "\n",
    "def generar_combinaciones(lista1, lista2, lista3):\n",
    "    # Generar combinaciones aleatorias\n",
    "    combinaciones = [f\"{elem1} {elem2} {elem3}\" for elem1 in lista1 for elem2 in lista2 for elem3 in lista3]\n",
    "    \n",
    "    # Función lambda para obtener una combinación al azar\n",
    "    elegir_combinacion = lambda: random.choice(combinaciones)\n",
    "    \n",
    "    # Devolver la combinación seleccionada\n",
    "    return elegir_combinacion()\n",
    "\n",
    "\n",
    "# Listas con fragmentos de frases\n",
    "sujeto = [\"La perseverancia\", \"El éxito\", \"La pasión\", \"La creatividad\", \"La inteligencia\", \"La familia\"]\n",
    "verbo = [\"es\", \"representa\", \"muestra\", \"refleja\", \"demuestra\"]\n",
    "predicado = [\"la clave para triunfar\", \"la familia\", \"el éxito de la familia\", \"la fuerza que nos impulsa\", \"la chispa que enciende el cambio\", \"la luz que guía nuestro camino\"]\n",
    "\n",
    "\n",
    "# Llamar a la función y mostrar la combinación generada\n",
    "combinacion = generar_combinaciones(sujeto, verbo, predicado)\n",
    "\n",
    "# Imprimir una cita motivacional\n",
    "print(f\"✨ {combinacion} ✨\")"
   ]
  }
 ],
 "metadata": {
  "kernelspec": {
   "display_name": "Python 3",
   "language": "python",
   "name": "python3"
  },
  "language_info": {
   "codemirror_mode": {
    "name": "ipython",
    "version": 3
   },
   "file_extension": ".py",
   "mimetype": "text/x-python",
   "name": "python",
   "nbconvert_exporter": "python",
   "pygments_lexer": "ipython3",
   "version": "3.10.0"
  }
 },
 "nbformat": 4,
 "nbformat_minor": 2
}
